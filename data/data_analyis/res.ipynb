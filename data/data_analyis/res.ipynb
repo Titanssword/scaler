{
 "cells": [
  {
   "cell_type": "code",
   "execution_count": 4,
   "metadata": {},
   "outputs": [
    {
     "name": "stdout",
     "output_type": "stream",
     "text": [
      "resourceUsageScore: 2.8666475533615237\n",
      "coldStartTimeScore: 39.49643516713143\n",
      "Total Score: 42.363082720492955\n"
     ]
    }
   ],
   "source": [
    "import json\n",
    "\n",
    "data_json = '''\n",
    "{\"id\":\"dataSet_3\",\"requestFilePath\":\"/tmp/data/dataSet_3/requests\",\"metaFilePath\":\"/tmp/data/dataSet_3/metas\",\"startTime\":\"2023-08-09 12:30:00\",\"endTime\":\"2023-08-09 15:09:17\",\"totalRequestsCount\":436546,\"failedRequestsCount\":0,\"successRate\":1.0,\"invocationLatencyInSecs\":543644,\"invocationExecutionTimeInSecs\":429440,\"invocationExecutionTimeInGBs\":197576,\"invocationScheduleTimeInSecs\":106999,\"invocationIdleTimeInSecs\":7205,\"totalSlotTimeInGBs\":3446116,\"totalLiveSlotCount\":522,\"score\":42.363082720492955}\n",
    "'''\n",
    "\n",
    "data = json.loads(data_json)\n",
    "\n",
    "# Calculate resourceUsageScore\n",
    "resource_usage_score = (data[\"invocationExecutionTimeInGBs\"] / data[\"totalSlotTimeInGBs\"]) * 50\n",
    "\n",
    "# Calculate coldStartTimeScore\n",
    "cold_start_time_score = (data[\"invocationExecutionTimeInSecs\"] /\n",
    "                         (data[\"invocationExecutionTimeInSecs\"] +\n",
    "                          data[\"invocationScheduleTimeInSecs\"] +\n",
    "                          data[\"invocationIdleTimeInSecs\"])) * 50\n",
    "\n",
    "# Calculate the total score by adding both scores\n",
    "total_score = resource_usage_score + cold_start_time_score\n",
    "\n",
    "print(f\"resourceUsageScore: {resource_usage_score}\")\n",
    "print(f\"coldStartTimeScore: {cold_start_time_score}\")\n",
    "print(f\"Total Score: {total_score}\")\n"
   ]
  }
 ],
 "metadata": {
  "kernelspec": {
   "display_name": "Python 3",
   "language": "python",
   "name": "python3"
  },
  "language_info": {
   "codemirror_mode": {
    "name": "ipython",
    "version": 3
   },
   "file_extension": ".py",
   "mimetype": "text/x-python",
   "name": "python",
   "nbconvert_exporter": "python",
   "pygments_lexer": "ipython3",
   "version": "3.10.11"
  },
  "orig_nbformat": 4
 },
 "nbformat": 4,
 "nbformat_minor": 2
}
